{
 "cells": [
  {
   "cell_type": "code",
   "execution_count": 2,
   "metadata": {},
   "outputs": [
    {
     "data": {
      "text/html": [
       "\n",
       "                Logging results to <a href=\"https://wandb.com\" target=\"_blank\">Weights & Biases</a> <a href=\"https://docs.wandb.com/integrations/jupyter.html\" target=\"_blank\">(Documentation)</a>.<br/>\n",
       "                Project page: <a href=\"https://app.wandb.ai/ng478/uncategorized\" target=\"_blank\">https://app.wandb.ai/ng478/uncategorized</a><br/>\n",
       "                Run page: <a href=\"https://app.wandb.ai/ng478/uncategorized/runs/ieu92n2v\" target=\"_blank\">https://app.wandb.ai/ng478/uncategorized/runs/ieu92n2v</a><br/>\n",
       "            "
      ],
      "text/plain": [
       "<IPython.core.display.HTML object>"
      ]
     },
     "metadata": {},
     "output_type": "display_data"
    },
    {
     "name": "stderr",
     "output_type": "stream",
     "text": [
      "wandb: Wandb version 0.8.19 is available!  To upgrade, please run:\n",
      "wandb:  $ pip install wandb --upgrade\n",
      "Using TensorFlow backend.\n"
     ]
    }
   ],
   "source": [
    "import pandas\n",
    "from wandb import magic\n",
    "from keras.models import Sequential\n",
    "from keras.layers import Dense\n",
    "from keras.wrappers.scikit_learn import KerasClassifier\n",
    "from sklearn.model_selection import cross_val_score\n",
    "from sklearn.preprocessing import LabelEncoder\n",
    "from sklearn.model_selection import StratifiedKFold\n",
    "from sklearn.preprocessing import StandardScaler\n",
    "from sklearn.pipeline import Pipeline\n"
   ]
  },
  {
   "cell_type": "code",
   "execution_count": 3,
   "metadata": {
    "scrolled": true
   },
   "outputs": [],
   "source": [
    "import pandas as pd\n",
    "import numpy as np\n",
    "\n",
    "# predicts 7/12, 8/11 or 6/8\n",
    "sequences = ['H375S', 'WT', 'LM', 'LM_H375S', 'H375S_H61Y', 'H375S_Q105H', 'H375S_V108I', 'H375S_Q105H_V108I', 'H375S_NIK474_476DMR', 'H375S_Q105H_V108I_NIK474_476DMR', 'H375T', 'LM_H375T']\n",
    "#sequences = ['H375S', 'WT', 'LM', 'LM_H375S', 'H375S_H61Y', 'H375S_Q105H', 'H375S_V108I', 'H375S_Q105H_V108I', 'H375S_Q105H_V108I_NIK474_476DMR', 'H375T', 'LM_H375T']\n",
    "#sequences = ['H375S', 'H375S_H61Y', 'H375S_Q105H', 'H375S_V108I', 'H375S_Q105H_V108I', 'H375S_NIK474_476DMR', 'H375S_Q105H_V108I_NIK474_476DMR', 'H375T']\n",
    "#sequences = ['H375S']\n",
    "\n",
    "active = [0, 0, 0, 1, 0, 0, 0, 0, 1, 0, 1, 1]  \n",
    "#active = [0, 0, 0, 1, 0, 0, 0, 0, 0, 1, 1] \n",
    "#active = [0, 0, 0, 0, 0, 1, 0, 1] \n",
    "#active = [0]\n",
    "\n",
    "\n",
    "my_dict = {}\n",
    "\n",
    "for seq,act in zip(sequences,active):\n",
    "\n",
    "    df=pd.read_csv('output-rgyr-%s.dat'%seq, sep=\" \",header=None)\n",
    "    df1=pd.read_csv('output-charge-%s.dat'%seq, sep=\" \",header=None)\n",
    "    df2=pd.read_csv('output-dot-%s.dat'%seq, sep=\" \",header=None)\n",
    "    df3=pd.read_csv('output-%s.dat'%seq, sep=\" \",header=None)\n",
    "    df4=pd.read_csv('output-pt0-tot-%s.dat'%seq, sep=\" \",header=None)\n",
    "    df5=pd.read_csv('output-charge-std-%s.dat'%seq, sep=\" \",header=None)\n",
    "    my_dict[seq]=[df4,act]\n",
    "    #input data is df4, which is the average dipole moment per time step across the 5 replicate trajectories\n",
    "    #y = np.array(my_dict['H375S'])\n",
    "    \n",
    "    "
   ]
  },
  {
   "cell_type": "code",
   "execution_count": 4,
   "metadata": {},
   "outputs": [],
   "source": [
    "a = []\n",
    "#Here I am adding each first column of the data as an array per sequence\n",
    "#For example, the average dipole moment across 5 replicas of the first timestep for H375S is: -3.67851 -2.19384 1.71885\n",
    "for seq in sequences:\n",
    "    a.append(my_dict[seq][0].values)\n",
    "#print(a)"
   ]
  },
  {
   "cell_type": "code",
   "execution_count": 5,
   "metadata": {},
   "outputs": [
    {
     "name": "stdout",
     "output_type": "stream",
     "text": [
      "[[ -2.8466332    0.4870854   -2.19924092  -3.16172576  -5.01941824\n",
      "    2.70913076  -4.77747345  -1.80289662   2.66193199  -3.11892295\n",
      "   -2.47863531   3.21628737  -4.48778868  -2.15532875   2.20614076]\n",
      " [ -3.45033669  -4.63814354   2.43113422  -5.14350986   0.88839942\n",
      "    2.41240644  -6.37243795   4.61542654   0.64635426  -3.57225227\n",
      "   -1.34722579   2.98118758   0.66992515  -3.17044067  -0.10806453]\n",
      " [ -5.56045818  -1.46790457   3.30935311  -4.91776848   2.71892452\n",
      "    3.18388247  -3.61188626   0.9636091    2.82110929  -3.90747356\n",
      "   -5.30803776   4.88333893  -3.96387386  -3.90625381   1.14402461]\n",
      " [ -6.71906996  -8.36864567   1.61141038  -5.75638866   4.37827635\n",
      "   -0.055243    -4.51404858  -9.54637337   1.16040933  -4.10686398\n",
      "    0.18335484   3.04668164  -3.15018129  -3.08053541   2.01455808]\n",
      " [ -4.05333805  -3.17776012   4.59513903  -5.91127682  -6.81819487\n",
      "    3.85489607 -10.0897274   -2.87265515   2.2580235  -10.13624477\n",
      "   -5.37688446   5.45007706  -7.06479979  -0.387748    -0.25708798]\n",
      " [ -5.24110079  -0.37576908  -0.85329145  -8.41981316  -2.85971928\n",
      "    6.0130477   -6.72837353  -0.79676855  -0.45002219  -7.68647242\n",
      "   -4.69080973   5.56310081  -9.12281227   2.48425627   2.75457764]\n",
      " [ -7.99885607  -4.9400425    5.88344669  -4.78918886  -2.06089878\n",
      "    3.28332758  -4.42152309  -1.3616519    1.96609163  -4.16153908\n",
      "   -1.40223455   3.86729741  -2.81256437  -0.05162396  -2.51023006]\n",
      " [ -3.55918884  -0.57172668   1.68561268   2.59935188  10.57184887\n",
      "   -6.7683301   -5.96321726  -0.50782204  -1.38523841  -6.85797405\n",
      "   -2.88359261   1.62830973  -6.20665646  -4.5436573    3.01940632]\n",
      " [ -5.16499996   4.02517223   0.65342402  -6.63892746  -4.12101698\n",
      "    2.67781782  -2.09737611   1.00866902   1.48788643  -0.74115568\n",
      "   -0.65905929  -4.03793383  -0.98525697   0.31176335   2.52759409]\n",
      " [ -5.5673089   -2.37805772   2.40713954 -12.52679253   8.7514801\n",
      "    6.1860919    4.23119116   5.77485228  -3.99082136  -1.77831697\n",
      "    0.27896512   0.17742242  -3.70611858  -1.73190975  -0.19316959]\n",
      " [ -2.11257529   2.24564123   1.84139359  -5.27946949  -3.60154223\n",
      "   -0.17717993  -2.29408526   1.62848794  -1.13943458  -1.66832411\n",
      "    1.4350071   -2.37928367  -2.85657358  -2.55342889   2.2410121 ]\n",
      " [ -4.52781534  -2.7232523    3.61141706  -2.59780502   5.11709976\n",
      "    1.95902276   0.70320982  -0.12995017   1.83963919  -1.66959512\n",
      "    2.85883927  -2.02611375  -5.69565678   1.67620409   1.59920347]]\n"
     ]
    }
   ],
   "source": [
    "#a = a.reshape(a.shape[0], -1)  \n",
    "a = np.asarray(a)\n",
    "a = a.reshape(a.shape[0], -1)\n",
    "print (a)\n",
    "X = a\n",
    "Y = active\n",
    "#print (b)"
   ]
  },
  {
   "cell_type": "code",
   "execution_count": 5,
   "metadata": {},
   "outputs": [
    {
     "data": {
      "text/plain": [
       "(12, 15)"
      ]
     },
     "execution_count": 5,
     "metadata": {},
     "output_type": "execute_result"
    }
   ],
   "source": [
    "#the reason the shape of a below is 12, 60000 is that there are 12 sequences and 20000 timesteps x 3 coordinates = 60000 features\n",
    "a.shape"
   ]
  },
  {
   "cell_type": "code",
   "execution_count": 6,
   "metadata": {},
   "outputs": [],
   "source": [
    "# encode class values as integers\n",
    "encoder = LabelEncoder()\n",
    "encoder.fit(Y)\n",
    "encoded_Y = encoder.transform(Y)"
   ]
  },
  {
   "cell_type": "code",
   "execution_count": 7,
   "metadata": {},
   "outputs": [
    {
     "name": "stderr",
     "output_type": "stream",
     "text": [
      "wandb: Wandb version 0.8.19 is available!  To upgrade, please run:\n",
      "wandb:  $ pip install wandb --upgrade\n"
     ]
    }
   ],
   "source": [
    "model = Sequential()\n",
    "model.add(Dense(15, input_dim=15, activation='relu'))\n",
    "model.add(Dense(14, activation='relu')) \n",
    "model.add(Dense(1, activation='sigmoid'))\n",
    "# compile the keras model\n",
    "model.compile(loss='binary_crossentropy', optimizer='adam', metrics=['accuracy'])\n",
    "# fit the keras model on the dataset\n",
    "model.fit(X, Y, epochs=300, batch_size=100, verbose=0)\n",
    "# make class predictions with the model\n",
    "predictions = model.predict_classes(X)"
   ]
  },
  {
   "cell_type": "code",
   "execution_count": 8,
   "metadata": {},
   "outputs": [],
   "source": [
    "sequences2 = ['H375S_H61Y_Q105H_V108I', 'H375T_H61Y_Q105H_V108I', 'H61Y_Q105H_V108I']\n",
    "#sequences = ['H375S']\n",
    "my_dict2 = {}\n",
    "\n",
    "for seq2 in sequences2:\n",
    "\n",
    "    df=pd.read_csv('output-rgyr-%s.dat'%seq2, sep=\" \",header=None)\n",
    "    df1=pd.read_csv('output-charge-%s.dat'%seq2, sep=\" \",header=None)\n",
    "    df2=pd.read_csv('output-dot-%s.dat'%seq, sep=\" \",header=None)\n",
    "    df3=pd.read_csv('output-%s.dat'%seq, sep=\" \",header=None)\n",
    "    df4=pd.read_csv('output-pt0-tot-%s.dat'%seq, sep=\" \", header=None)\n",
    "    df5=pd.read_csv('output-charge-std-%s.dat'%seq, sep=\" \",header=None)\n",
    "    #df=0 \n",
    "    my_dict2[seq2]=[df4]\n",
    "   \n",
    "#df.columns= my_dict[\"H375S\"][0].columns\n",
    "#df1.columns=my_dict[\"H375S\"][0].columns\n",
    "#distance2 = my_dict2[\"H375S_H61Y_Q105H_V108I\"][0].columns"
   ]
  },
  {
   "cell_type": "code",
   "execution_count": 14,
   "metadata": {},
   "outputs": [],
   "source": [
    "c = []\n",
    "for seq2 in sequences2:\n",
    "    c.append(my_dict2[seq2][0].values)\n",
    "    #c = c.tolist()\n",
    "#print(c)\n",
    "c = np.asarray(c)\n",
    "\n",
    "c = c.reshape(c.shape[0], -1)\n",
    "#c.shape"
   ]
  },
  {
   "cell_type": "code",
   "execution_count": 10,
   "metadata": {},
   "outputs": [
    {
     "name": "stdout",
     "output_type": "stream",
     "text": [
      "(predicted 0)\n",
      "(predicted 0)\n",
      "(predicted 0)\n",
      "(predicted 1)\n",
      "(predicted 0)\n",
      "(predicted 0)\n",
      "(predicted 0)\n",
      "(predicted 0)\n",
      "(predicted 1)\n",
      "(predicted 0)\n",
      "(predicted 1)\n",
      "(predicted 1)\n",
      "0\n"
     ]
    },
    {
     "name": "stderr",
     "output_type": "stream",
     "text": [
      "wandb: Wandb version 0.8.19 is available!  To upgrade, please run:\n",
      "wandb:  $ pip install wandb --upgrade\n",
      "/home/natasha/.local/lib/python3.7/site-packages/keras/callbacks/callbacks.py:95: RuntimeWarning: Method (on_train_batch_end) is slow compared to the batch update (0.689206). Check your callbacks.\n",
      "  % (hook_name, delta_t_median), RuntimeWarning)\n",
      "/home/natasha/.local/lib/python3.7/site-packages/keras/callbacks/callbacks.py:95: RuntimeWarning: Method (on_train_batch_end) is slow compared to the batch update (0.349034). Check your callbacks.\n",
      "  % (hook_name, delta_t_median), RuntimeWarning)\n"
     ]
    },
    {
     "name": "stdout",
     "output_type": "stream",
     "text": [
      "yes\n",
      "1\n",
      "yes\n",
      "2\n",
      "yes\n",
      "3\n",
      "yes\n",
      "4\n",
      "yes\n",
      "5\n",
      "yes\n",
      "6\n",
      "yes\n",
      "7\n",
      "yes\n",
      "8\n",
      "yes\n",
      "9\n",
      "yes\n",
      "10\n",
      "yes\n",
      "11\n"
     ]
    },
    {
     "name": "stderr",
     "output_type": "stream",
     "text": [
      "/home/natasha/.local/lib/python3.7/site-packages/keras/callbacks/callbacks.py:95: RuntimeWarning: Method (on_train_batch_end) is slow compared to the batch update (0.101039). Check your callbacks.\n",
      "  % (hook_name, delta_t_median), RuntimeWarning)\n"
     ]
    },
    {
     "name": "stdout",
     "output_type": "stream",
     "text": [
      "yes\n"
     ]
    }
   ],
   "source": [
    "reference = np.array(active)\n",
    "t = model.predict_classes(X)\n",
    "for i in range(12):\n",
    "    print('(predicted %d)' % (t[i]))\n",
    "for x in range(12):\n",
    "    print (x)\n",
    "    z = np.delete(a, x, 0)\n",
    "    y = np.delete(active, x, 0)\n",
    "    model.fit(z, y, epochs=150, batch_size=10, verbose=0)\n",
    "    #print (y)\n",
    "    t = model.predict_classes(X)\n",
    "    #for i in range(12):\n",
    "        #print('%d (expected %d)' % (t[i], Y[i]))\n",
    "    #t=t.reshape(-1, 1).tolist()\n",
    "    zz=[tt[0] for tt in t]\n",
    "    #print (zz)\n",
    "    #print (Y)\n",
    "    e = zz == Y\n",
    "    #print (e)\n",
    "    if np.all(e):\n",
    "        print(\"yes\")\n",
    "    else:   \n",
    "        print (\"no\")"
   ]
  },
  {
   "cell_type": "code",
   "execution_count": 11,
   "metadata": {},
   "outputs": [
    {
     "name": "stdout",
     "output_type": "stream",
     "text": [
      "0 (expected 0)\n",
      "0 (expected 0)\n",
      "0 (expected 0)\n",
      "1 (expected 1)\n",
      "0 (expected 0)\n",
      "0 (expected 0)\n",
      "0 (expected 0)\n",
      "0 (expected 0)\n",
      "1 (expected 1)\n",
      "0 (expected 0)\n",
      "1 (expected 1)\n",
      "1 (expected 1)\n"
     ]
    }
   ],
   "source": [
    "predictions = model.predict_classes(a)\n",
    "for i in range(12):\n",
    "    print('%d (expected %d)' % (predictions[i], Y[i]))"
   ]
  },
  {
   "cell_type": "code",
   "execution_count": 12,
   "metadata": {},
   "outputs": [
    {
     "name": "stdout",
     "output_type": "stream",
     "text": [
      "1\n",
      "1\n",
      "1\n"
     ]
    }
   ],
   "source": [
    "predictions = model.predict_classes(c)\n",
    "for i in range(3):\n",
    "    print('%d' % (predictions[i]))"
   ]
  },
  {
   "cell_type": "code",
   "execution_count": 13,
   "metadata": {},
   "outputs": [
    {
     "name": "stderr",
     "output_type": "stream",
     "text": [
      "wandb: Wandb version 0.8.19 is available!  To upgrade, please run:\n",
      "wandb:  $ pip install wandb --upgrade\n",
      "/home/natasha/.local/lib/python3.7/site-packages/keras/callbacks/callbacks.py:95: RuntimeWarning: Method (on_train_batch_end) is slow compared to the batch update (0.494912). Check your callbacks.\n",
      "  % (hook_name, delta_t_median), RuntimeWarning)\n"
     ]
    },
    {
     "name": "stdout",
     "output_type": "stream",
     "text": [
      "dict_keys(['val_loss', 'val_accuracy', 'loss', 'accuracy'])\n"
     ]
    },
    {
     "data": {
      "image/png": "[encoded data removed]",
      "text/plain": [
       "<Figure size 432x288 with 1 Axes>"
      ]
     },
     "metadata": {
      "needs_background": "light"
     },
     "output_type": "display_data"
    },
    {
     "data": {
      "image/png": "[encoded data removed]",
      "text/plain": [
       "<Figure size 432x288 with 1 Axes>"
      ]
     },
     "metadata": {
      "needs_background": "light"
     },
     "output_type": "display_data"
    }
   ],
   "source": [
    "%matplotlib inline\n",
    "import matplotlib.pyplot as plt\n",
    "history = model.fit(X, Y, validation_split=0.33, epochs=150, batch_size=10, verbose=0)\n",
    "# list all data in history\n",
    "print(history.history.keys())\n",
    "# summarize history for accuracy\n",
    "plt.plot(history.history['accuracy'])\n",
    "plt.plot(history.history['val_accuracy'])\n",
    "plt.title('model accuracy')\n",
    "plt.ylabel('accuracy')\n",
    "plt.xlabel('epoch')\n",
    "plt.legend(['train', 'test'], loc='upper left')\n",
    "plt.show()\n",
    "# summarize history for loss\n",
    "plt.plot(history.history['loss'])\n",
    "plt.plot(history.history['val_loss'])\n",
    "plt.title('model loss')\n",
    "plt.ylabel('loss')\n",
    "plt.xlabel('epoch')\n",
    "plt.legend(['train', 'test'], loc='upper left')\n",
    "plt.show()"
   ]
  },
  {
   "cell_type": "code",
   "execution_count": null,
   "metadata": {},
   "outputs": [],
   "source": []
  },
  {
   "cell_type": "code",
   "execution_count": null,
   "metadata": {},
   "outputs": [],
   "source": []
  }
 ],
 "metadata": {
  "kernelspec": {
   "display_name": "Python 3",
   "language": "python",
   "name": "python3"
  },
  "language_info": {
   "codemirror_mode": {
    "name": "ipython",
    "version": 3
   },
   "file_extension": ".py",
   "mimetype": "text/x-python",
   "name": "python",
   "nbconvert_exporter": "python",
   "pygments_lexer": "ipython3",
   "version": "3.7.6"
  }
 },
 "nbformat": 4,
 "nbformat_minor": 2
}
