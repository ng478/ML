{
 "cells": [
  {
   "cell_type": "code",
   "execution_count": 6,
   "metadata": {},
   "outputs": [
    {
     "data": {
      "text/html": [
       "\n",
       "                Logging results to <a href=\"https://wandb.com\" target=\"_blank\">Weights & Biases</a> <a href=\"https://docs.wandb.com/integrations/jupyter.html\" target=\"_blank\">(Documentation)</a>.<br/>\n",
       "                Project page: <a href=\"https://app.wandb.ai/ng478/uncategorized\" target=\"_blank\">https://app.wandb.ai/ng478/uncategorized</a><br/>\n",
       "                Run page: <a href=\"https://app.wandb.ai/ng478/uncategorized/runs/fwmrxh74\" target=\"_blank\">https://app.wandb.ai/ng478/uncategorized/runs/fwmrxh74</a><br/>\n",
       "            "
      ],
      "text/plain": [
       "<IPython.core.display.HTML object>"
      ]
     },
     "metadata": {},
     "output_type": "display_data"
    },
    {
     "name": "stderr",
     "output_type": "stream",
     "text": [
      "wandb: Wandb version 0.8.28 is available!  To upgrade, please run:\n",
      "wandb:  $ pip install wandb --upgrade\n",
      "Using TensorFlow backend.\n"
     ]
    }
   ],
   "source": [
    "import pandas\n",
    "from wandb import magic\n",
    "from keras.models import Sequential\n",
    "from keras.layers import Dense\n",
    "from keras.wrappers.scikit_learn import KerasClassifier\n",
    "from sklearn.model_selection import cross_val_score\n",
    "from sklearn.preprocessing import LabelEncoder\n",
    "from sklearn.model_selection import StratifiedKFold\n",
    "from sklearn.preprocessing import StandardScaler\n",
    "from sklearn.pipeline import Pipeline\n"
   ]
  },
  {
   "cell_type": "code",
   "execution_count": 20,
   "metadata": {
    "scrolled": true
   },
   "outputs": [],
   "source": [
    "import pandas as pd\n",
    "import numpy as np\n",
    "\n",
    "# predicts 7/12, 8/11 or 6/8\n",
    "sequences = ['H375S', 'WT', 'LM', 'LM_H375S', 'H375S_H61Y', 'H375S_Q105H', 'H375S_V108I', 'H375S_Q105H_V108I', 'H375S_NIK474_476DMR', 'H375S_Q105H_V108I_NIK474_476DMR', 'H375T', 'LM_H375T', 'H375S_H61Y_Q105H_V108I', 'H375T_H61Y_Q105H_V108I']\n",
    "#sequences = ['H375S', 'WT', 'LM', 'LM_H375S', 'H375S_H61Y', 'H375S_Q105H', 'H375S_V108I', 'H375S_Q105H_V108I', 'H375S_Q105H_V108I_NIK474_476DMR', 'H375T', 'LM_H375T']\n",
    "#sequences = ['H375S', 'H375S_H61Y', 'H375S_Q105H', 'H375S_V108I', 'H375S_Q105H_V108I', 'H375S_NIK474_476DMR', 'H375S_Q105H_V108I_NIK474_476DMR', 'H375T']\n",
    "#sequences = ['H375S']\n",
    "\n",
    "active = [0, 0, 0, 1, 0, 0, 0, 0, 1, 0, 1, 1, 0, 1]  \n",
    "#active = [0, 0, 0, 1, 0, 0, 0, 0, 0, 1, 1] \n",
    "#active = [0, 0, 0, 0, 0, 1, 0, 1] \n",
    "#active = [0]\n",
    "\n",
    "\n",
    "my_dict = {}\n",
    "\n",
    "for seq,act in zip(sequences,active):\n",
    "\n",
    "    df=pd.read_csv('output-rgyr-%s.dat'%seq, sep=\" \",header=None)\n",
    "    df1=pd.read_csv('output-charge-%s.dat'%seq, sep=\" \",header=None)\n",
    "    df2=pd.read_csv('output-dot-%s.dat'%seq, sep=\" \",header=None)\n",
    "    df3=pd.read_csv('output-%s.dat'%seq, sep=\" \",header=None)\n",
    "    df4=pd.read_csv('output-mag-50-%s.dat'%seq, sep=\" \",header=None)\n",
    "    df5=pd.read_csv('output-charge-std-%s.dat'%seq, sep=\" \",header=None)\n",
    "    my_dict[seq]=[df4,act]\n",
    "    #input data is df4, which is the average dipole moment per time step across the 5 replicate trajectories\n",
    "    #y = np.array(my_dict['H375S'])\n",
    "    \n",
    "    "
   ]
  },
  {
   "cell_type": "code",
   "execution_count": 21,
   "metadata": {},
   "outputs": [],
   "source": [
    "a = []\n",
    "#Here I am adding each first column of the data as an array per sequence\n",
    "#For example, the average dipole moment across 5 replicas of the first timestep for H375S is: -3.67851 -2.19384 1.71885\n",
    "for seq in sequences:\n",
    "    a.append(my_dict[seq][0].values)\n",
    "#print(a)"
   ]
  },
  {
   "cell_type": "code",
   "execution_count": 22,
   "metadata": {},
   "outputs": [],
   "source": [
    "#a = a.reshape(a.shape[0], -1)  \n",
    "a = np.asarray(a)\n",
    "a = a.reshape(a.shape[0], -1)\n",
    "#print (a)\n",
    "X = a\n",
    "Y = active\n",
    "#print (b)"
   ]
  },
  {
   "cell_type": "code",
   "execution_count": 23,
   "metadata": {},
   "outputs": [
    {
     "data": {
      "text/plain": [
       "(14, 50)"
      ]
     },
     "execution_count": 23,
     "metadata": {},
     "output_type": "execute_result"
    }
   ],
   "source": [
    "#the reason the shape of a below is 12, 60000 is that there are 12 sequences and 20000 timesteps x 3 coordinates = 60000 features\n",
    "a.shape"
   ]
  },
  {
   "cell_type": "code",
   "execution_count": 24,
   "metadata": {},
   "outputs": [],
   "source": [
    "# encode class values as integers\n",
    "encoder = LabelEncoder()\n",
    "encoder.fit(Y)\n",
    "encoded_Y = encoder.transform(Y)"
   ]
  },
  {
   "cell_type": "code",
   "execution_count": 25,
   "metadata": {},
   "outputs": [
    {
     "name": "stderr",
     "output_type": "stream",
     "text": [
      "wandb: Wandb version 0.8.28 is available!  To upgrade, please run:\n",
      "wandb:  $ pip install wandb --upgrade\n",
      "/home/natasha/.local/lib/python3.7/site-packages/keras/callbacks/callbacks.py:95: RuntimeWarning: Method (on_train_batch_end) is slow compared to the batch update (0.645598). Check your callbacks.\n",
      "  % (hook_name, delta_t_median), RuntimeWarning)\n"
     ]
    }
   ],
   "source": [
    "model = Sequential()\n",
    "model.add(Dense(50, input_dim=50, activation='relu'))\n",
    "model.add(Dense(25, activation='relu')) \n",
    "model.add(Dense(1, activation='sigmoid'))\n",
    "# compile the keras model\n",
    "model.compile(loss='binary_crossentropy', optimizer='adam', metrics=['accuracy'])\n",
    "# fit the keras model on the dataset\n",
    "model.fit(X, Y, epochs=300, batch_size=100, verbose=0)\n",
    "# make class predictions with the model\n",
    "predictions = model.predict_classes(X)"
   ]
  },
  {
   "cell_type": "code",
   "execution_count": 26,
   "metadata": {},
   "outputs": [],
   "source": [
    "sequences2 = ['H61Y_Q105H_V108I']\n",
    "#sequences = ['H375S']\n",
    "my_dict2 = {}\n",
    "\n",
    "for seq2 in sequences2:\n",
    "\n",
    "    df=pd.read_csv('output-rgyr-%s.dat'%seq2, sep=\" \",header=None)\n",
    "    df1=pd.read_csv('output-charge-%s.dat'%seq2, sep=\" \",header=None)\n",
    "    df2=pd.read_csv('output-dot-%s.dat'%seq, sep=\" \",header=None)\n",
    "    df3=pd.read_csv('output-%s.dat'%seq, sep=\" \",header=None)\n",
    "    df4=pd.read_csv('output-mag-50-%s.dat'%seq, sep=\" \", header=None)\n",
    "    df5=pd.read_csv('output-charge-std-%s.dat'%seq, sep=\" \",header=None)\n",
    "    #df=0 \n",
    "    my_dict2[seq2]=[df4]\n",
    "   \n",
    "#df.columns= my_dict[\"H375S\"][0].columns\n",
    "#df1.columns=my_dict[\"H375S\"][0].columns\n",
    "#distance2 = my_dict2[\"H375S_H61Y_Q105H_V108I\"][0].columns"
   ]
  },
  {
   "cell_type": "code",
   "execution_count": 27,
   "metadata": {},
   "outputs": [
    {
     "name": "stdout",
     "output_type": "stream",
     "text": [
      "[array([[2.56486],\n",
      "       [5.07211],\n",
      "       [5.08207],\n",
      "       [4.70147],\n",
      "       [4.04897],\n",
      "       [5.28455],\n",
      "       [3.27289],\n",
      "       [5.09455],\n",
      "       [5.27729],\n",
      "       [4.53987],\n",
      "       [5.02366],\n",
      "       [4.53616],\n",
      "       [2.42768],\n",
      "       [4.73175],\n",
      "       [2.62444],\n",
      "       [5.01189],\n",
      "       [5.03957],\n",
      "       [2.93904],\n",
      "       [5.47786],\n",
      "       [3.87926],\n",
      "       [2.37708],\n",
      "       [7.10095],\n",
      "       [7.06917],\n",
      "       [3.64913],\n",
      "       [4.80409],\n",
      "       [6.18371],\n",
      "       [5.45348],\n",
      "       [6.49614],\n",
      "       [4.57115],\n",
      "       [7.26895],\n",
      "       [8.20005],\n",
      "       [4.78871],\n",
      "       [6.64557],\n",
      "       [6.43039],\n",
      "       [6.8262 ],\n",
      "       [8.47672],\n",
      "       [6.66663],\n",
      "       [8.22185],\n",
      "       [7.6375 ],\n",
      "       [8.82686],\n",
      "       [7.24643],\n",
      "       [6.38562],\n",
      "       [3.1937 ],\n",
      "       [4.24615],\n",
      "       [4.75811],\n",
      "       [6.70724],\n",
      "       [9.86023],\n",
      "       [6.57045],\n",
      "       [8.98216],\n",
      "       [6.2652 ]])]\n"
     ]
    }
   ],
   "source": [
    "c = []\n",
    "for seq2 in sequences2:\n",
    "    c.append(my_dict2[seq2][0].values)\n",
    "    #c = c.tolist()\n",
    "print(c)\n",
    "c = np.asarray(c)\n",
    "\n",
    "c = c.reshape(c.shape[0], -1)\n",
    "#c.shape"
   ]
  },
  {
   "cell_type": "code",
   "execution_count": 28,
   "metadata": {},
   "outputs": [
    {
     "name": "stdout",
     "output_type": "stream",
     "text": [
      "(predicted 0)\n",
      "(predicted 0)\n",
      "(predicted 0)\n",
      "(predicted 1)\n",
      "(predicted 0)\n",
      "(predicted 0)\n",
      "(predicted 0)\n",
      "(predicted 0)\n",
      "(predicted 1)\n",
      "(predicted 0)\n",
      "(predicted 1)\n",
      "(predicted 1)\n",
      "(predicted 0)\n",
      "(predicted 1)\n",
      "0\n"
     ]
    },
    {
     "name": "stderr",
     "output_type": "stream",
     "text": [
      "wandb: Wandb version 0.8.28 is available!  To upgrade, please run:\n",
      "wandb:  $ pip install wandb --upgrade\n",
      "/home/natasha/.local/lib/python3.7/site-packages/keras/callbacks/callbacks.py:95: RuntimeWarning: Method (on_train_batch_end) is slow compared to the batch update (0.574590). Check your callbacks.\n",
      "  % (hook_name, delta_t_median), RuntimeWarning)\n",
      "/home/natasha/.local/lib/python3.7/site-packages/keras/callbacks/callbacks.py:95: RuntimeWarning: Method (on_train_batch_end) is slow compared to the batch update (0.291364). Check your callbacks.\n",
      "  % (hook_name, delta_t_median), RuntimeWarning)\n"
     ]
    },
    {
     "name": "stdout",
     "output_type": "stream",
     "text": [
      "yes\n",
      "1\n",
      "yes\n",
      "2\n",
      "yes\n",
      "3\n",
      "yes\n",
      "4\n",
      "yes\n",
      "5\n",
      "yes\n",
      "6\n",
      "yes\n",
      "7\n",
      "yes\n",
      "8\n",
      "yes\n",
      "9\n",
      "yes\n",
      "10\n",
      "yes\n",
      "11\n"
     ]
    },
    {
     "name": "stderr",
     "output_type": "stream",
     "text": [
      "/home/natasha/.local/lib/python3.7/site-packages/keras/callbacks/callbacks.py:95: RuntimeWarning: Method (on_train_batch_end) is slow compared to the batch update (0.103235). Check your callbacks.\n",
      "  % (hook_name, delta_t_median), RuntimeWarning)\n"
     ]
    },
    {
     "name": "stdout",
     "output_type": "stream",
     "text": [
      "yes\n",
      "12\n",
      "yes\n",
      "13\n",
      "yes\n"
     ]
    }
   ],
   "source": [
    "reference = np.array(active)\n",
    "t = model.predict_classes(X)\n",
    "for i in range(14):\n",
    "    print('(predicted %d)' % (t[i]))\n",
    "for x in range(14):\n",
    "    print (x)\n",
    "    z = np.delete(a, x, 0)\n",
    "    y = np.delete(active, x, 0)\n",
    "    model.fit(z, y, epochs=150, batch_size=10, verbose=0)\n",
    "    #print (y)\n",
    "    t = model.predict_classes(X)\n",
    "    #for i in range(12):\n",
    "        #print('%d (expected %d)' % (t[i], Y[i]))\n",
    "    #t=t.reshape(-1, 1).tolist()\n",
    "    zz=[tt[0] for tt in t]\n",
    "    #print (zz)\n",
    "    #print (Y)\n",
    "    e = zz == Y\n",
    "    #print (e)\n",
    "    if np.all(e):\n",
    "        print(\"yes\")\n",
    "    else:   \n",
    "        print (\"no\")"
   ]
  },
  {
   "cell_type": "code",
   "execution_count": 29,
   "metadata": {},
   "outputs": [
    {
     "name": "stdout",
     "output_type": "stream",
     "text": [
      "0 (expected 0)\n",
      "0 (expected 0)\n",
      "0 (expected 0)\n",
      "1 (expected 1)\n",
      "0 (expected 0)\n",
      "0 (expected 0)\n",
      "0 (expected 0)\n",
      "0 (expected 0)\n",
      "1 (expected 1)\n",
      "0 (expected 0)\n",
      "1 (expected 1)\n",
      "1 (expected 1)\n",
      "0 (expected 0)\n",
      "1 (expected 1)\n"
     ]
    }
   ],
   "source": [
    "predictions = model.predict_classes(a)\n",
    "for i in range(14):\n",
    "    print('%d (expected %d)' % (predictions[i], Y[i]))"
   ]
  },
  {
   "cell_type": "code",
   "execution_count": 30,
   "metadata": {},
   "outputs": [
    {
     "name": "stdout",
     "output_type": "stream",
     "text": [
      "1\n"
     ]
    }
   ],
   "source": [
    "predictions = model.predict_classes(c)\n",
    "for i in range(1):\n",
    "    print('%d' % (predictions[i]))"
   ]
  },
  {
   "cell_type": "code",
   "execution_count": null,
   "metadata": {},
   "outputs": [],
   "source": []
  },
  {
   "cell_type": "code",
   "execution_count": null,
   "metadata": {},
   "outputs": [],
   "source": []
  }
 ],
 "metadata": {
  "kernelspec": {
   "display_name": "Python 3",
   "language": "python",
   "name": "python3"
  },
  "language_info": {
   "codemirror_mode": {
    "name": "ipython",
    "version": 3
   },
   "file_extension": ".py",
   "mimetype": "text/x-python",
   "name": "python",
   "nbconvert_exporter": "python",
   "pygments_lexer": "ipython3",
   "version": "3.7.6"
  }
 },
 "nbformat": 4,
 "nbformat_minor": 2
}
