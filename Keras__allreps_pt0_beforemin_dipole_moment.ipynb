{
 "cells": [
  {
   "cell_type": "code",
   "execution_count": 1,
   "metadata": {},
   "outputs": [
    {
     "data": {
      "text/html": [
       "\n",
       "                Logging results to <a href=\"https://wandb.com\" target=\"_blank\">Weights & Biases</a> <a href=\"https://docs.wandb.com/integrations/jupyter.html\" target=\"_blank\">(Documentation)</a>.<br/>\n",
       "                Project page: <a href=\"https://app.wandb.ai/ng478/uncategorized\" target=\"_blank\">https://app.wandb.ai/ng478/uncategorized</a><br/>\n",
       "                Run page: <a href=\"https://app.wandb.ai/ng478/uncategorized/runs/0zyltg0m\" target=\"_blank\">https://app.wandb.ai/ng478/uncategorized/runs/0zyltg0m</a><br/>\n",
       "            "
      ],
      "text/plain": [
       "<IPython.core.display.HTML object>"
      ]
     },
     "metadata": {},
     "output_type": "display_data"
    },
    {
     "name": "stderr",
     "output_type": "stream",
     "text": [
      "wandb: Wandb version 0.8.19 is available!  To upgrade, please run:\n",
      "wandb:  $ pip install wandb --upgrade\n",
      "Using TensorFlow backend.\n"
     ]
    }
   ],
   "source": [
    "import pandas\n",
    "from wandb import magic\n",
    "from keras.models import Sequential\n",
    "from keras.layers import Dense\n",
    "from keras.wrappers.scikit_learn import KerasClassifier\n",
    "from sklearn.model_selection import cross_val_score\n",
    "from sklearn.preprocessing import LabelEncoder\n",
    "from sklearn.model_selection import StratifiedKFold\n",
    "from sklearn.preprocessing import StandardScaler\n",
    "from sklearn.pipeline import Pipeline\n"
   ]
  },
  {
   "cell_type": "code",
   "execution_count": 2,
   "metadata": {
    "scrolled": true
   },
   "outputs": [],
   "source": [
    "import pandas as pd\n",
    "import numpy as np\n",
    "\n",
    "# predicts 7/12, 8/11 or 6/8\n",
    "sequences = ['H375S', 'WT', 'LM', 'LM_H375S', 'H375S_H61Y', 'H375S_Q105H', 'H375S_V108I', 'H375S_Q105H_V108I', 'H375S_NIK474_476DMR', 'H375S_Q105H_V108I_NIK474_476DMR', 'H375T', 'LM_H375T']\n",
    "#sequences = ['H375S', 'WT', 'LM', 'LM_H375S', 'H375S_H61Y', 'H375S_Q105H', 'H375S_V108I', 'H375S_Q105H_V108I', 'H375S_Q105H_V108I_NIK474_476DMR', 'H375T', 'LM_H375T']\n",
    "#sequences = ['H375S', 'H375S_H61Y', 'H375S_Q105H', 'H375S_V108I', 'H375S_Q105H_V108I', 'H375S_NIK474_476DMR', 'H375S_Q105H_V108I_NIK474_476DMR', 'H375T']\n",
    "#sequences = ['H375S']\n",
    "\n",
    "active = [0, 0, 0, 1, 0, 0, 0, 0, 1, 0, 1, 1]  \n",
    "#active = [0, 0, 0, 1, 0, 0, 0, 0, 0, 1, 1] \n",
    "#active = [0, 0, 0, 0, 0, 1, 0, 1] \n",
    "#active = [0]\n",
    "\n",
    "\n",
    "my_dict = {}\n",
    "\n",
    "for seq,act in zip(sequences,active):\n",
    "\n",
    "    df=pd.read_csv('output-rgyr-%s.dat'%seq, sep=\" \",header=None)\n",
    "    df1=pd.read_csv('output-charge-%s.dat'%seq, sep=\" \",header=None)\n",
    "    df2=pd.read_csv('output-dot-%s.dat'%seq, sep=\" \",header=None)\n",
    "    df3=pd.read_csv('output-%s.dat'%seq, sep=\" \",header=None)\n",
    "    df4=pd.read_csv('output-dip_m0-%s.dat'%seq, sep=\" \",header=None)\n",
    "    df5=pd.read_csv('output-charge-std-%s.dat'%seq, sep=\" \",header=None)\n",
    "    my_dict[seq]=[df4,act]\n",
    "    #input data is df4, which is the average dipole moment per time step across the 5 replicate trajectories\n",
    "    #y = np.array(my_dict['H375S'])\n",
    "    \n",
    "    "
   ]
  },
  {
   "cell_type": "code",
   "execution_count": 3,
   "metadata": {},
   "outputs": [],
   "source": [
    "a = []\n",
    "#Here I am adding each first column of the data as an array per sequence\n",
    "#For example, the average dipole moment across 5 replicas of the first timestep for H375S is: -3.67851 -2.19384 1.71885\n",
    "for seq in sequences:\n",
    "    a.append(my_dict[seq][0].values)\n",
    "#print(a)"
   ]
  },
  {
   "cell_type": "code",
   "execution_count": 4,
   "metadata": {},
   "outputs": [
    {
     "name": "stdout",
     "output_type": "stream",
     "text": [
      "[[ 10.15849876  -2.23135972  -1.8707155 ]\n",
      " [  4.6289506   -6.28782368   1.15888822]\n",
      " [  9.42135525  -6.27033043   0.98151362]\n",
      " [ -2.47728705 -14.71017647   3.40527368]\n",
      " [ -0.37824386  -1.51324677   1.66203606]\n",
      " [ -5.52832603  -6.11771059   8.5180769 ]\n",
      " [  4.86699295  -2.34558058   0.27293631]\n",
      " [ 10.02420712  -3.92459941   0.11794906]\n",
      " [  3.49932575 -14.11200619  -2.25012326]\n",
      " [  8.17145729  -7.52695656   0.46305045]\n",
      " [  5.18106794   1.65597439  -0.11920998]\n",
      " [  4.20399332  -5.10549068   1.74097252]]\n"
     ]
    }
   ],
   "source": [
    "#a = a.reshape(a.shape[0], -1)  \n",
    "a = np.asarray(a)\n",
    "a = a.reshape(a.shape[0], -1)\n",
    "print (a)\n",
    "X = a\n",
    "Y = active\n",
    "#print (b)"
   ]
  },
  {
   "cell_type": "code",
   "execution_count": 5,
   "metadata": {},
   "outputs": [
    {
     "data": {
      "text/plain": [
       "(12, 3)"
      ]
     },
     "execution_count": 5,
     "metadata": {},
     "output_type": "execute_result"
    }
   ],
   "source": [
    "#the reason the shape of a below is 12, 60000 is that there are 12 sequences and 20000 timesteps x 3 coordinates = 60000 features\n",
    "a.shape"
   ]
  },
  {
   "cell_type": "code",
   "execution_count": 6,
   "metadata": {},
   "outputs": [],
   "source": [
    "# encode class values as integers\n",
    "encoder = LabelEncoder()\n",
    "encoder.fit(Y)\n",
    "encoded_Y = encoder.transform(Y)"
   ]
  },
  {
   "cell_type": "code",
   "execution_count": 8,
   "metadata": {},
   "outputs": [
    {
     "name": "stderr",
     "output_type": "stream",
     "text": [
      "wandb: Wandb version 0.8.19 is available!  To upgrade, please run:\n",
      "wandb:  $ pip install wandb --upgrade\n",
      "/home/natasha/.local/lib/python3.7/site-packages/keras/callbacks/callbacks.py:95: RuntimeWarning: Method (on_train_batch_end) is slow compared to the batch update (0.441028). Check your callbacks.\n",
      "  % (hook_name, delta_t_median), RuntimeWarning)\n"
     ]
    }
   ],
   "source": [
    "model = Sequential()\n",
    "model.add(Dense(3, input_dim=3, activation='relu'))\n",
    "model.add(Dense(2, activation='relu')) \n",
    "model.add(Dense(1, activation='sigmoid'))\n",
    "# compile the keras model\n",
    "model.compile(loss='binary_crossentropy', optimizer='adam', metrics=['accuracy'])\n",
    "# fit the keras model on the dataset\n",
    "model.fit(X, Y, epochs=300, batch_size=100, verbose=0)\n",
    "# make class predictions with the model\n",
    "predictions = model.predict_classes(X)"
   ]
  },
  {
   "cell_type": "code",
   "execution_count": 11,
   "metadata": {},
   "outputs": [],
   "source": [
    "sequences2 = ['H375S_H61Y_Q105H_V108I', 'H375T_H61Y_Q105H_V108I', 'H61Y_Q105H_V108I']\n",
    "#sequences = ['H375S']\n",
    "my_dict2 = {}\n",
    "\n",
    "for seq2 in sequences2:\n",
    "\n",
    "    df=pd.read_csv('output-rgyr-%s.dat'%seq2, sep=\" \",header=None)\n",
    "    df1=pd.read_csv('output-charge-%s.dat'%seq2, sep=\" \",header=None)\n",
    "    df2=pd.read_csv('output-dot-%s.dat'%seq, sep=\" \",header=None)\n",
    "    df3=pd.read_csv('output-%s.dat'%seq, sep=\" \",header=None)\n",
    "    df4=pd.read_csv('output-dip_m0-%s.dat'%seq, sep=\" \", header=None)\n",
    "    df5=pd.read_csv('output-charge-std-%s.dat'%seq, sep=\" \",header=None)\n",
    "    #df=0 \n",
    "    my_dict2[seq2]=[df4]\n",
    "   \n",
    "#df.columns= my_dict[\"H375S\"][0].columns\n",
    "#df1.columns=my_dict[\"H375S\"][0].columns\n",
    "#distance2 = my_dict2[\"H375S_H61Y_Q105H_V108I\"][0].columns"
   ]
  },
  {
   "cell_type": "code",
   "execution_count": 12,
   "metadata": {},
   "outputs": [],
   "source": [
    "c = []\n",
    "for seq2 in sequences2:\n",
    "    c.append(my_dict2[seq2][0].values)\n",
    "    #c = c.tolist()\n",
    "#print(c)\n",
    "c = np.asarray(c)\n",
    "\n",
    "c = c.reshape(c.shape[0], -1)\n",
    "#c.shape"
   ]
  },
  {
   "cell_type": "code",
   "execution_count": 13,
   "metadata": {},
   "outputs": [
    {
     "name": "stderr",
     "output_type": "stream",
     "text": [
      "wandb: Wandb version 0.8.19 is available!  To upgrade, please run:\n",
      "wandb:  $ pip install wandb --upgrade\n"
     ]
    },
    {
     "name": "stdout",
     "output_type": "stream",
     "text": [
      "(predicted 0)\n",
      "(predicted 0)\n",
      "(predicted 0)\n",
      "(predicted 0)\n",
      "(predicted 0)\n",
      "(predicted 0)\n",
      "(predicted 0)\n",
      "(predicted 0)\n",
      "(predicted 0)\n",
      "(predicted 0)\n",
      "(predicted 1)\n",
      "(predicted 0)\n",
      "0\n"
     ]
    },
    {
     "name": "stderr",
     "output_type": "stream",
     "text": [
      "/home/natasha/.local/lib/python3.7/site-packages/keras/callbacks/callbacks.py:95: RuntimeWarning: Method (on_train_batch_end) is slow compared to the batch update (0.462032). Check your callbacks.\n",
      "  % (hook_name, delta_t_median), RuntimeWarning)\n",
      "/home/natasha/.local/lib/python3.7/site-packages/keras/callbacks/callbacks.py:95: RuntimeWarning: Method (on_train_batch_end) is slow compared to the batch update (0.235039). Check your callbacks.\n",
      "  % (hook_name, delta_t_median), RuntimeWarning)\n"
     ]
    },
    {
     "name": "stdout",
     "output_type": "stream",
     "text": [
      "no\n",
      "1\n",
      "no\n",
      "2\n",
      "no\n",
      "3\n",
      "no\n",
      "4\n",
      "no\n",
      "5\n",
      "no\n",
      "6\n",
      "no\n",
      "7\n",
      "no\n",
      "8\n",
      "no\n",
      "9\n",
      "no\n",
      "10\n",
      "no\n",
      "11\n",
      "no\n"
     ]
    }
   ],
   "source": [
    "reference = np.array(active)\n",
    "t = model.predict_classes(X)\n",
    "for i in range(12):\n",
    "    print('(predicted %d)' % (t[i]))\n",
    "for x in range(12):\n",
    "    print (x)\n",
    "    z = np.delete(a, x, 0)\n",
    "    y = np.delete(active, x, 0)\n",
    "    model.fit(z, y, epochs=150, batch_size=10, verbose=0)\n",
    "    #print (y)\n",
    "    t = model.predict_classes(X)\n",
    "    #for i in range(12):\n",
    "        #print('%d (expected %d)' % (t[i], Y[i]))\n",
    "    #t=t.reshape(-1, 1).tolist()\n",
    "    zz=[tt[0] for tt in t]\n",
    "    #print (zz)\n",
    "    #print (Y)\n",
    "    e = zz == Y\n",
    "    #print (e)\n",
    "    if np.all(e):\n",
    "        print(\"yes\")\n",
    "    else:   \n",
    "        print (\"no\")"
   ]
  },
  {
   "cell_type": "code",
   "execution_count": 14,
   "metadata": {},
   "outputs": [
    {
     "name": "stdout",
     "output_type": "stream",
     "text": [
      "0 (expected 0)\n",
      "0 (expected 0)\n",
      "0 (expected 0)\n",
      "0 (expected 1)\n",
      "0 (expected 0)\n",
      "0 (expected 0)\n",
      "0 (expected 0)\n",
      "0 (expected 0)\n",
      "0 (expected 1)\n",
      "0 (expected 0)\n",
      "1 (expected 1)\n",
      "0 (expected 1)\n"
     ]
    }
   ],
   "source": [
    "predictions = model.predict_classes(a)\n",
    "for i in range(12):\n",
    "    print('%d (expected %d)' % (predictions[i], Y[i]))"
   ]
  },
  {
   "cell_type": "code",
   "execution_count": 15,
   "metadata": {},
   "outputs": [
    {
     "name": "stdout",
     "output_type": "stream",
     "text": [
      "0\n",
      "0\n",
      "0\n"
     ]
    }
   ],
   "source": [
    "predictions = model.predict_classes(c)\n",
    "for i in range(3):\n",
    "    print('%d' % (predictions[i]))"
   ]
  },
  {
   "cell_type": "code",
   "execution_count": 16,
   "metadata": {},
   "outputs": [
    {
     "name": "stderr",
     "output_type": "stream",
     "text": [
      "wandb: Wandb version 0.8.19 is available!  To upgrade, please run:\n",
      "wandb:  $ pip install wandb --upgrade\n",
      "/home/natasha/.local/lib/python3.7/site-packages/keras/callbacks/callbacks.py:95: RuntimeWarning: Method (on_train_batch_end) is slow compared to the batch update (0.471513). Check your callbacks.\n",
      "  % (hook_name, delta_t_median), RuntimeWarning)\n"
     ]
    },
    {
     "name": "stdout",
     "output_type": "stream",
     "text": [
      "dict_keys(['val_loss', 'val_accuracy', 'loss', 'accuracy'])\n"
     ]
    },
    {
     "data": {
      "image/png": "[encoded data removed]",
      "text/plain": [
       "<Figure size 432x288 with 1 Axes>"
      ]
     },
     "metadata": {
      "needs_background": "light"
     },
     "output_type": "display_data"
    },
    {
     "data": {
      "image/png": "[encoded data removed]",
      "text/plain": [
       "<Figure size 432x288 with 1 Axes>"
      ]
     },
     "metadata": {
      "needs_background": "light"
     },
     "output_type": "display_data"
    }
   ],
   "source": [
    "%matplotlib inline\n",
    "import matplotlib.pyplot as plt\n",
    "history = model.fit(X, Y, validation_split=0.33, epochs=150, batch_size=10, verbose=0)\n",
    "# list all data in history\n",
    "print(history.history.keys())\n",
    "# summarize history for accuracy\n",
    "plt.plot(history.history['accuracy'])\n",
    "plt.plot(history.history['val_accuracy'])\n",
    "plt.title('model accuracy')\n",
    "plt.ylabel('accuracy')\n",
    "plt.xlabel('epoch')\n",
    "plt.legend(['train', 'test'], loc='upper left')\n",
    "plt.show()\n",
    "# summarize history for loss\n",
    "plt.plot(history.history['loss'])\n",
    "plt.plot(history.history['val_loss'])\n",
    "plt.title('model loss')\n",
    "plt.ylabel('loss')\n",
    "plt.xlabel('epoch')\n",
    "plt.legend(['train', 'test'], loc='upper left')\n",
    "plt.show()"
   ]
  },
  {
   "cell_type": "code",
   "execution_count": null,
   "metadata": {},
   "outputs": [],
   "source": []
  },
  {
   "cell_type": "code",
   "execution_count": null,
   "metadata": {},
   "outputs": [],
   "source": []
  }
 ],
 "metadata": {
  "kernelspec": {
   "display_name": "Python 3",
   "language": "python",
   "name": "python3"
  },
  "language_info": {
   "codemirror_mode": {
    "name": "ipython",
    "version": 3
   },
   "file_extension": ".py",
   "mimetype": "text/x-python",
   "name": "python",
   "nbconvert_exporter": "python",
   "pygments_lexer": "ipython3",
   "version": "3.7.6"
  }
 },
 "nbformat": 4,
 "nbformat_minor": 2
}
